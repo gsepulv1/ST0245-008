{
  "nbformat": 4,
  "nbformat_minor": 0,
  "metadata": {
    "colab": {
      "name": "Taller06.ipynb",
      "provenance": [],
      "collapsed_sections": [],
      "authorship_tag": "ABX9TyMP1jtrg7fbK0BriPJyshN0",
      "include_colab_link": true
    },
    "kernelspec": {
      "name": "python3",
      "display_name": "Python 3"
    }
  },
  "cells": [
    {
      "cell_type": "markdown",
      "metadata": {
        "id": "view-in-github",
        "colab_type": "text"
      },
      "source": [
        "<a href=\"https://colab.research.google.com/github/sparram3/ST0245-008/blob/master/Taller06.ipynb\" target=\"_parent\"><img src=\"https://colab.research.google.com/assets/colab-badge.svg\" alt=\"Open In Colab\"/></a>"
      ]
    },
    {
      "cell_type": "code",
      "metadata": {
        "id": "n5Ax7Fj0yb_R"
      },
      "source": [
        "#Punto 1\n",
        "def eliminar_repetidos(lista):\n",
        "  i = 0\n",
        "  while i<len(lista):\n",
        "    j = i+1\n",
        "    while j<len(lista):\n",
        "      if lista[i]==lista[j]:\n",
        "        lista.pop(j)\n",
        "      else:\n",
        "        j+=1\n",
        "    i+=1\n",
        "  return lista\n",
        "\n",
        "#LISTA DESORDENADA\n",
        "print(\"LISTA DESORDENADA\")\n",
        "lista = [4,7,11,4,9,5,11,7,3,5]\n",
        "print(\"Original:\", lista)\n",
        "print(\"Sin repetidos:\", eliminar_repetidos(lista))"
      ],
      "execution_count": null,
      "outputs": []
    },
    {
      "cell_type": "markdown",
      "metadata": {
        "id": "KgCWVt2dzc_P"
      },
      "source": [
        "La complejidad del algoritmo anterior es de O(n^2), ya que contamos con un ciclo anidado en este"
      ]
    },
    {
      "cell_type": "code",
      "metadata": {
        "id": "jIjnFm4i0XFb"
      },
      "source": [
        "#Punto 2\n",
        "def eliminar_repetidos_ordenada(lista):\n",
        "  i = 0\n",
        "  while i<len(lista):\n",
        "    j = i+1\n",
        "    while j<len(lista):\n",
        "      if lista[i]==lista[j]:\n",
        "        lista.pop(j)\n",
        "      else:\n",
        "        break\n",
        "    i+=1\n",
        "  return lista\n",
        "\n",
        "#LISTA ORDENADA\n",
        "print(\"LISTA ORDENADA\")\n",
        "lista = [3,4,4,5,5,7,7,9,11,11]\n",
        "print(\"Original:\", lista)\n",
        "print(\"Sin repetidos:\", eliminar_repetidos_ordenada(lista))"
      ],
      "execution_count": null,
      "outputs": []
    },
    {
      "cell_type": "markdown",
      "metadata": {
        "id": "f1Ig2YEO1MLF"
      },
      "source": [
        "La ventaja de la lista ordenada es que en la linea 10 se puede usar el break y asi se hacen menos comparaciones, y es más eficiente en este sentido, aunque de igual forma contamos con dos ciclos que están anidados, por lo que la complejidad sigue siendo O(n^2)"
      ]
    },
    {
      "cell_type": "markdown",
      "metadata": {
        "id": "xiouEEIW_pNp"
      },
      "source": [
        "Punto 3:\n",
        "\n",
        "En este punto tenemos dos opciones de posibles algoritmos de ordenación, puede ser uno de selección o uno de inserción. Esto ya que en la primera pasada ambos algoritmos toman el 3 y lo cambian con el 47, pasandolo a la posición 0, y el 47 queda en la posición 1.\n",
        "\n",
        "Luego, en la segunda pasada, cambian de posición el 47 y el 21, el 21 queda en la posición 1, el 47 en la 2 y el resto de elementos quedan intactos, tal como muestra el resultado que nos dice el ejercicio.\n",
        "\n",
        "Así pues, tenemos esas dos opciones, puede ser un algoritmo de selección o uno de inserción"
      ]
    },
    {
      "cell_type": "code",
      "metadata": {
        "id": "HHhw9c_26Utk"
      },
      "source": [
        "#Insercion\n",
        "def insertion(lista):\n",
        "  for i in range(len(lista)):\n",
        "    key = lista[i]\n",
        "    j = i-1\n",
        "    while j>=0 and lista[j]>key:\n",
        "      lista[j+1], lista[j] = lista[j], lista[j+1]\n",
        "      print(lista)\n",
        "      j = j-1\n",
        "  return lista\n",
        "\n",
        "lista = [2,35,4,8,9,24,41,13]\n",
        "\n",
        "print(insertion(lista))"
      ],
      "execution_count": null,
      "outputs": []
    },
    {
      "cell_type": "code",
      "metadata": {
        "id": "BEpFP8kkBjwh"
      },
      "source": [
        "#Punto 4 ShellSort\n",
        "def shell(lista):\n",
        "  sep = len(lista)//2\n",
        "  pasadas = 0\n",
        "  intercambios = 0\n",
        "  iteraciones = 0\n",
        "  while sep >=1:\n",
        "    print(\"NUEVA PASADA\")\n",
        "    print(lista)\n",
        "    print(\"Separador:\", sep-1, \"Pasadas:\", pasadas, \"Intercambios:\", intercambios, \"Iteraciones:\", iteraciones)\n",
        "    print(\"PROCESO SHELL\")\n",
        "    i = sep\n",
        "    while sep<=i and i<len(lista):\n",
        "      iteraciones += 1\n",
        "      while lista[i-sep] > lista[i]:\n",
        "        intercambios += 1\n",
        "        lista[i-sep], lista[i] = lista[i], lista[i-sep]\n",
        "        if i >= 2*sep:\n",
        "          i = i-sep\n",
        "      print(lista)\n",
        "      i+=1\n",
        "    pasadas += 1\n",
        "    sep = sep // 2\n",
        "    print()\n",
        "  print(\"LISTA ORDENADA:\", lista)\n",
        "  print(\"Pasadas:\", pasadas, \"Intercambios:\", intercambios, \"Iteraciones:\", iteraciones)\n",
        "  \n",
        "\n",
        "lista = [8,43,17,6,40,16,18,97,11,7]\n",
        "shell(lista)"
      ],
      "execution_count": null,
      "outputs": []
    },
    {
      "cell_type": "code",
      "metadata": {
        "id": "i1aVG7kCQrvb"
      },
      "source": [
        "#Punto 5\n",
        "def ganador(lista):\n",
        "  comp = 0\n",
        "  ordenada = merge_sort(lista) #Se llama al algoritmo del Punto 8\n",
        "  contador = [0]\n",
        "  for i in range(len(ordenada)):\n",
        "    if ordenada[i] is not ordenada[comp]:\n",
        "      contador.append(i)\n",
        "      comp = i\n",
        "  contador.append(len(ordenada))\n",
        "  mayor = 0\n",
        "  for i in range(2, len(contador)):\n",
        "    if contador[mayor+1]-contador[mayor] < contador[i]-contador[i-1]:\n",
        "      mayor = i-1\n",
        "  return ordenada[contador[mayor]]\n",
        "\n",
        "def merge_sort(lista):\n",
        "  if len(lista) > 1:\n",
        "    sep = len(lista)//2\n",
        "    izquierda = lista[:sep]\n",
        "    derecha = lista[sep:]\n",
        "    merge_sort(izquierda)\n",
        "    merge_sort(derecha)\n",
        "    i,j,k = 0,0,0\n",
        "    while i<len(izquierda) and j<len(derecha):\n",
        "      if izquierda[i] < derecha[j]:\n",
        "        lista[k] = izquierda[i]\n",
        "        i +=1\n",
        "      else:\n",
        "        lista[k] = derecha[j]\n",
        "        j +=1\n",
        "      k+=1\n",
        "    while i<len(izquierda):\n",
        "      lista[k] = izquierda[i]\n",
        "      i+=1\n",
        "      k+=1\n",
        "    while j<len(derecha):\n",
        "      lista[k] = derecha[j]\n",
        "      j+=1\n",
        "      k+=1\n",
        "  return lista\n",
        "\n",
        "votos = [1,2,1,2,3,3,2,1,1,2,3,2,2]\n",
        "print(\"El ganador es el candidato Nro\", ganador(votos))"
      ],
      "execution_count": null,
      "outputs": []
    },
    {
      "cell_type": "markdown",
      "metadata": {
        "id": "AqTzt7wgp1Kv"
      },
      "source": [
        "El algoritmo del punto 5 tiene complejidad O(n*logn), ya que hace una llamada al MergeSort que tiene esta complejidad y todas las demas instrucciones tienen complejidad O(n) o O(1), asi que la complejidad mayor es O(n*logn) y esta es la del algoritmo"
      ]
    },
    {
      "cell_type": "code",
      "metadata": {
        "id": "ql3AmUCL-1Fn"
      },
      "source": [
        "#Punto 6\n",
        "futbolistasTup = [(1, \"Casillas\"), (15, \"Ramos\"), (3, \"Pique\"), (5, \"Puyol\"), (11, \"Capdevila\"),  (14, \"Xabi Alonso\"), (16, \"Busquets\"), (8, \"Xavi Hernandez\"), (18, \"Pedrito\"), (6, \"Iniesta\"), (7, \"Villa\")]\n",
        "futbolistasTup.sort(key=lambda futbolista: futbolista[0])\n",
        "print(futbolistasTup)\n",
        "\n",
        "#Lista punto 1\n",
        "lista1 = [4,7,11,4,9,5,11,7,3,5]\n",
        "lista1.sort()\n",
        "print(lista1)\n",
        "\n",
        "#Lista punto 3\n",
        "lista3 = [47,3,21,32.56,92]\n",
        "lista3.sort()\n",
        "print(lista3)\n",
        "\n",
        "#Lista punto 4\n",
        "lista4 = [8,43,17,6,40,16,18,97,11,7]\n",
        "lista4.sort()\n",
        "print(lista4)\n",
        "\n",
        "#Punto D\n",
        "inventos2019 = [(40,\"Robots con destreza\"),(65,\"Energía nuclear renovada\"),(90,\"Predicción de niños prematuros\"),(70,\"Sonda intestinal\"),(100,\"Vacuna contra el cáncer\"),(30,\"Chuleta in vitro\"),(70,\"Purificadores de aire mundiales\"),(60,\"Médico de muñeca\"),(90,\"Servicios sin sistema de alcantarillado\"),(30, \"Inteligencia artificial que hable y entienda\")]\n",
        "inventos2019.sort(key=lambda inventos2019: inventos2019[0])\n",
        "print(inventos2019)"
      ],
      "execution_count": null,
      "outputs": []
    },
    {
      "cell_type": "markdown",
      "metadata": {
        "id": "Ej_LjKmzKYvs"
      },
      "source": [
        "Punto 6\n",
        "\n",
        "a. Al aplicar el metodo sort, los numeros de las tuplas se ordenan ascendentemente, y así la lista entera queda ordenada\n",
        "\n",
        "b. Con el parámetro se indica que la lista de tuplas se va a ordenar respecto al elemento de la posición 0 de cada tupla, es decir, ser ordenará respecto a los números de forma ascendente\n",
        ". Si se cambia futbolista[0] por futbolista[1], la lista se ordenará ascendentemente pero respecto a las palabras, es decir, en orden alfabético\n",
        "\n",
        "c. El método sort(key=lambda lista: lista[0]) no se puede aplicar a las listas de los puntos 1, 3 y 4, pues estas listas no contienen tuplas, sino que contienen tan solo numeros, y este tipo de dato no admite indexación. \n",
        "\n",
        "Podemos decir como conclusión que en primer lugar, este método solo sirve para listas cuyos elementos si se pueden indexar, como mas listas, tuplas, sets, etc. \n",
        "\n",
        "En segundo lugar, para este tipo de listas que no se pueden indexar se puede usar el metodo .sort() sin parámetros, que nos ordena la lista ascendentemente "
      ]
    },
    {
      "cell_type": "code",
      "metadata": {
        "id": "XFSXxuZf9KAK"
      },
      "source": [
        "#Punto 7\n",
        "def encontrar_negativos(lista):\n",
        "  i = 0\n",
        "  while i<len(lista):\n",
        "    while i < len(lista) and lista[i]>0:\n",
        "      lista.pop(i)\n",
        "    i+=1\n",
        "  return lista\n",
        "lista = [1,24,2,-43,-6,53,-32,-89,76]\n",
        "encontrar_negativos(lista)"
      ],
      "execution_count": null,
      "outputs": []
    },
    {
      "cell_type": "markdown",
      "metadata": {
        "id": "r0ojvHTYxKlm"
      },
      "source": [
        "En el algoritmo del punto 7, el peor de los casos ocurre cuando el algoritmo tiene que eliminar todos los elementos de la lista y al final la lista queda vacía y sin ningun negativo"
      ]
    },
    {
      "cell_type": "code",
      "metadata": {
        "id": "43cgZSffFqRM"
      },
      "source": [
        "#Punto 8 MergeSort\n",
        "def merge_sort(lista):\n",
        "  if len(lista) > 1:\n",
        "    sep = len(lista)//2\n",
        "    izquierda = lista[:sep]\n",
        "    derecha = lista[sep:]\n",
        "    merge_sort(izquierda)\n",
        "    merge_sort(derecha)\n",
        "    i,j,k = 0,0,0\n",
        "    while i<len(izquierda) and j<len(derecha):\n",
        "      if izquierda[i] < derecha[j]:\n",
        "        lista[k] = izquierda[i]\n",
        "        i +=1\n",
        "      else:\n",
        "        lista[k] = derecha[j]\n",
        "        j +=1\n",
        "      k+=1\n",
        "    while i<len(izquierda):\n",
        "      lista[k] = izquierda[i]\n",
        "      i+=1\n",
        "      k+=1\n",
        "    while j<len(derecha):\n",
        "      lista[k] = derecha[j]\n",
        "      j+=1\n",
        "      k+=1\n",
        "  return lista\n",
        "\n",
        "print(merge_sort( [21, 1, 26, 45, 29, 28, 2, 9, 16, 49, 39, 27, 43, 34, 46, 40] ))"
      ],
      "execution_count": null,
      "outputs": []
    },
    {
      "cell_type": "markdown",
      "metadata": {
        "id": "0PvdM1ezyDMq"
      },
      "source": [
        "Despues de 3 llamadas recursivas, la lista quedaría dividida hasta [21,1], pues el metodo siempre hace el llamado primero a la lista divida por la izquierda. En el primer llamado la lista queda dividida en [21, 1, 26, 45, 29, 28, 2, 9], en el segundo llamado el resultado es [21, 1, 26, 45], y finalmente para el tercer llamado tenemos [21, 1] y esa es la respuesta"
      ]
    },
    {
      "cell_type": "code",
      "metadata": {
        "id": "L95hwm_6OYMy"
      },
      "source": [
        "#Punto 9\n",
        "\n",
        "##El algoritmo es una clase que permite crear instancias de conjuntos o sets, funcionando como, \n",
        "#por decir asi, un nuevo tipo de dato, y permite almacenar varios datos a cada una de estas \n",
        "#instancias a la vez que ejecutar métodos con ellas (como con las listas)\n",
        "\n",
        "#El algoritmo tiene complejidad O(N)\n",
        "\n",
        "class Set:\n",
        "  #Complejidad del método O(1)\n",
        "  def __init__(self):\n",
        "    self._theElements = list()\n",
        "\n",
        "  #Complejidad del método O(1)\n",
        "  def __len__(self):\n",
        "    return len(self._theElements)\n",
        "  \n",
        "  #Complejidad del método O(N)\n",
        "  def __contains__(self, element):\n",
        "    ndx = self._findPosition(element)\n",
        "    return ndx < len(self) and self._theElements[ndx] == element\n",
        "  \n",
        "  #Complejidad del método O(1)\n",
        "  def add(self, element):\n",
        "    if element not in self._theElements:\n",
        "      ndx = self._findPosition(element)\n",
        "      self._theElements.insert(ndx, element)\n",
        "  \n",
        "  #Complejidad del método O(N)\n",
        "  def remove(self, element):\n",
        "    assert element in self, \"The element must be in the set\"\n",
        "    ndx = self._findPosition(element)\n",
        "    self._theElements.pop(ndx)\n",
        "\n",
        "  #Complejidad del método O(N)\n",
        "  def isSubSetOf(self, setB):\n",
        "    for element in self._theElements:\n",
        "      if element not in setB:\n",
        "        return False\n",
        "    return True\n",
        "  \n",
        "  #Complejidad del método O(1)\n",
        "  def __iter__(self):\n",
        "    return self\n",
        "\n",
        "  #Complejidaddel método O(N)\n",
        "  def _findPosition(self, element):\n",
        "    low = 0\n",
        "    high = self.__len__() - 1\n",
        "    while low <= high:\n",
        "      mid = (high + low) // 2\n",
        "      if self._theElements[mid] == element:\n",
        "        return mid\n",
        "      elif element < self._theElements[mid]:\n",
        "        high = mid - 1\n",
        "      else:\n",
        "        low = mid + 1\n",
        "    return low\n",
        "\n",
        "print(\"Creando los sets\")\n",
        "set1 = Set()\n",
        "set2 = Set()\n",
        "time.sleep(2)\n",
        "\n",
        "print(\"Llenando sets con datos (Método add)\")\n",
        "for i in range(1,10):\n",
        "  set1.add(i)\n",
        "for i in range(1,4):\n",
        "  set2.add(i)\n",
        "time.sleep(4)\n",
        "\n",
        "print(\"Muestra los sets\")\n",
        "print(\"Set1:\", set1._theElements)\n",
        "print(\"Set2:\", set2._theElements)\n",
        "print()\n",
        "time.sleep(4)\n",
        "\n",
        "print(\"Imprime la longuitud del primero (Método len)\")\n",
        "print(set1.__len__())\n",
        "print()\n",
        "time.sleep(4)\n",
        "\n",
        "print(\"Retorna si el primero contiene el 3 (Método contains)\")\n",
        "print(set1.__contains__(3))\n",
        "print()\n",
        "time.sleep(4)\n",
        "\n",
        "print(\"Remueve el elemento 4 del primer set (Método remove)\")\n",
        "set1.remove(4)\n",
        "print(set1._theElements)\n",
        "print()\n",
        "time.sleep(4)\n",
        "\n",
        "print(\"Verifica si el set 2 está contenido en el set 1 (Método isSubSetOf)\")\n",
        "print(set2.isSubSetOf(set1))\n",
        "print()\n",
        "time.sleep(4)\n",
        "\n",
        "print(\"Encuentra la posición del elemento 2 en el set 1 (Método findPosition)\")\n",
        "print(set1._findPosition(2))"
      ],
      "execution_count": null,
      "outputs": []
    },
    {
      "cell_type": "code",
      "metadata": {
        "id": "kmZIGOpwgXTO",
        "outputId": "042ced4b-bfbf-473d-ef37-ee3c5faac0cc",
        "colab": {
          "base_uri": "https://localhost:8080/",
          "height": 476
        }
      },
      "source": [
        "#Punto 10\n",
        "def busqueda_binaria(lista, elem):\n",
        "  medio = len(lista) // 2\n",
        "  if medio < 1:\n",
        "    return False\n",
        "  elif lista[0] == elem or lista[medio] == elem:\n",
        "    return True\n",
        "  elif lista[medio] < elem:\n",
        "    return busqueda_binaria(lista[medio:], elem)\n",
        "  else:\n",
        "    return busqueda_binaria(lista[:medio], elem)\n",
        "\n",
        "def buscar_matriz(matriz, elem):\n",
        "  i = 0\n",
        "  while i < len(matriz):\n",
        "    if busqueda_binaria(matriz[i], elem) is True:\n",
        "      return True\n",
        "    i +=1\n",
        "  return False\n",
        "\n",
        "matriz = [[1,2,2,2,3,4],[1,2,3,3,4,5],[3,4,4,4,4,6],[4,5,6,7,8,9]]\n",
        "print(\"Matriz:\")\n",
        "for i in range(len(matriz)):\n",
        "  print(matriz[i])\n",
        "print() \n",
        "for i in range(-5,16):\n",
        "  print(\"Para\", i, \"se tiene\", buscar_matriz(matriz,i))"
      ],
      "execution_count": 86,
      "outputs": [
        {
          "output_type": "stream",
          "text": [
            "Matriz:\n",
            "[1, 2, 2, 2, 3, 4]\n",
            "[1, 2, 3, 3, 4, 5]\n",
            "[3, 4, 4, 4, 4, 6]\n",
            "[4, 5, 6, 7, 8, 9]\n",
            "\n",
            "Para -5 se tiene False\n",
            "Para -4 se tiene False\n",
            "Para -3 se tiene False\n",
            "Para -2 se tiene False\n",
            "Para -1 se tiene False\n",
            "Para 0 se tiene False\n",
            "Para 1 se tiene True\n",
            "Para 2 se tiene True\n",
            "Para 3 se tiene True\n",
            "Para 4 se tiene True\n",
            "Para 5 se tiene True\n",
            "Para 6 se tiene True\n",
            "Para 7 se tiene True\n",
            "Para 8 se tiene True\n",
            "Para 9 se tiene True\n",
            "Para 10 se tiene False\n",
            "Para 11 se tiene False\n",
            "Para 12 se tiene False\n",
            "Para 13 se tiene False\n",
            "Para 14 se tiene False\n",
            "Para 15 se tiene False\n"
          ],
          "name": "stdout"
        }
      ]
    },
    {
      "cell_type": "code",
      "metadata": {
        "id": "KTWta_ZE1SDb"
      },
      "source": [
        "#Punto 11\n",
        "def quick(lista):\n",
        "  if len(lista) > 1:\n",
        "    pivote = lista[len(lista)-1]\n",
        "    izquierda = []\n",
        "    derecha = []\n",
        "    centro = []\n",
        "    for i in lista:\n",
        "      if i < pivote:\n",
        "        izquierda.append(i)\n",
        "      elif i > pivote:\n",
        "        derecha.append(i)\n",
        "      else:\n",
        "        centro.append(i)\n",
        "    return quick(izquierda) + centro + quick(derecha)\n",
        "  else:\n",
        "    return lista \n",
        "\n",
        "a = []\n",
        "b = []\n",
        "\n",
        "for i in range(100):\n",
        "  a.append(i)\n",
        "for i in range(60):\n",
        "  b.append(i)\n",
        "\n",
        "print(\"LISTA A\")\n",
        "print(a)\n",
        "print()\n",
        "\n",
        "print(\"LISTA B\")\n",
        "print(b)\n",
        "print()\n",
        "\n",
        "c = []\n",
        "for i in a:\n",
        "  c.append(i)\n",
        "for i in b:\n",
        "  c.append(i)\n",
        "\n",
        "print(\"LISTA C\")\n",
        "print(\"ANTES DE ORDENAR\")\n",
        "print(c)\n",
        "print(\"DESPUES DE ORDENAR\")\n",
        "print(quick(c))"
      ],
      "execution_count": null,
      "outputs": []
    },
    {
      "cell_type": "code",
      "metadata": {
        "id": "1MAnk8DbXGKD",
        "outputId": "e56fc211-3b3c-4e84-d511-ed7521b631e0",
        "colab": {
          "base_uri": "https://localhost:8080/",
          "height": 51
        }
      },
      "source": [
        "#Punto 12\n",
        "#RadixSort\n",
        "def radixSort(lista, digito):\n",
        "  if len(lista) is 1:\n",
        "    return lista\n",
        "  nuevaLista = lista\n",
        "  pos = 0\n",
        "  for i in range(len(lista)):\n",
        "    if getDigito(lista[i], digito) < getDigito(lista[pos], digito):\n",
        "      pos = i\n",
        "  nuevaLista[0], nuevaLista[pos] = nuevaLista[pos], nuevaLista[0] \n",
        "  return [nuevaLista[0]] + radixSort(nuevaLista[1:], digito)\n",
        "\n",
        "def getDigito(num, i):\n",
        "  return num % (10**i) // 10**(i-1)\n",
        "\n",
        "def doRadix(lista):\n",
        "  for i in range(1, 10):\n",
        "    lista = radixSort(radixSort(lista,i-1), i)\n",
        "  return lista\n",
        "\n",
        "lista1 = [121,45,1,564,423,23,788]\n",
        "print(\"LISTA ORGINAL:\", lista1)\n",
        "print(\"LISTA ORDENADA:\", doRadix(lista1))"
      ],
      "execution_count": 95,
      "outputs": [
        {
          "output_type": "stream",
          "text": [
            "LISTA ORGINAL: [121, 45, 1, 564, 423, 23, 788]\n",
            "LISTA ORDENADA: [1, 23, 45, 121, 423, 564, 788]\n"
          ],
          "name": "stdout"
        }
      ]
    },
    {
      "cell_type": "code",
      "metadata": {
        "id": "3gNffIudX3oC",
        "outputId": "2ca31fe8-c5e1-4693-8807-e01893197b4e",
        "colab": {
          "base_uri": "https://localhost:8080/",
          "height": 51
        }
      },
      "source": [
        "#Punto 12\n",
        "#BinSort\n",
        "import math\n",
        "buckets = []\n",
        "def createBuckets(lista, number):\n",
        "  bucket = []\n",
        "  min = 10*number\n",
        "  max = min + 9\n",
        "  for i in range(len(lista)):\n",
        "    if lista[i] <= max and min <= lista[i]:\n",
        "      bucket.append(lista[i])\n",
        "  if len(bucket) > 0:\n",
        "    bucket = insertion(bucket)\n",
        "    buckets.append(bucket)\n",
        "\n",
        "def binSort(lista):\n",
        "  for i in range(1000):\n",
        "    createBuckets(lista1, i)\n",
        "  ordenada = []\n",
        "  for i in range(len(buckets)):\n",
        "    ordenada = ordenada + buckets[i]\n",
        "  return ordenada\n",
        "\n",
        "def insertion(lista):\n",
        "  for i in range(len(lista)):\n",
        "    key = lista[i]\n",
        "    j = i-1\n",
        "    while j>=0 and lista[j]>key:\n",
        "      lista[j+1], lista[j] = lista[j], lista[j+1]\n",
        "      print(lista)\n",
        "      j = j-1\n",
        "  return lista\n",
        "\n",
        "lista1 = [121,45,1,564,423,23,788]\n",
        "print(\"LISTA ORIGINAL:\", lista1)\n",
        "print(\"LISTA ORDENADA:\",binSort(lista1))"
      ],
      "execution_count": 94,
      "outputs": [
        {
          "output_type": "stream",
          "text": [
            "LISTA ORIGINAL: [121, 45, 1, 564, 423, 23, 788]\n",
            "LISTA ORDENADA: [1, 23, 45, 121, 423, 564, 788]\n"
          ],
          "name": "stdout"
        }
      ]
    }
  ]
}