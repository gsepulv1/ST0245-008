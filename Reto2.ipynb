{
  "nbformat": 4,
  "nbformat_minor": 0,
  "metadata": {
    "colab": {
      "name": "Reto2.ipynb",
      "provenance": [],
      "authorship_tag": "ABX9TyPe/uKmh2vaHalnnxop9lST",
      "include_colab_link": true
    },
    "kernelspec": {
      "name": "python3",
      "display_name": "Python 3"
    }
  },
  "cells": [
    {
      "cell_type": "markdown",
      "metadata": {
        "id": "view-in-github",
        "colab_type": "text"
      },
      "source": [
        "<a href=\"https://colab.research.google.com/github/sparram3/ST0245-008/blob/master/Reto2.ipynb\" target=\"_parent\"><img src=\"https://colab.research.google.com/assets/colab-badge.svg\" alt=\"Open In Colab\"/></a>"
      ]
    },
    {
      "cell_type": "code",
      "metadata": {
        "id": "usu9xD4Yqi-z",
        "outputId": "84af2a7f-ea1b-410c-bcc0-e6511201fc7e",
        "colab": {
          "base_uri": "https://localhost:8080/",
          "height": 217
        }
      },
      "source": [
        "class Node:\n",
        "    def __init__(self, data):\n",
        "        self.data = data\n",
        "        self.next = None\n",
        "class SinglyLinkedList:\n",
        "    def __init__(self, he):\n",
        "        self.he = he\n",
        "\n",
        "    def length(self):\n",
        "        current = self.he\n",
        "        if current is not None:\n",
        "            count = 1\n",
        "            while current.next is not None:\n",
        "                count += 1\n",
        "                current = current.next\n",
        "            return count\n",
        "        else:\n",
        "            return 0\n",
        "\n",
        "    def insert(self, data, position):\n",
        "        new_node = Node(data)\n",
        "        if position == 0:\n",
        "            new_node.next = self.he\n",
        "            self.he = new_node\n",
        "        else:\n",
        "            current = self.he\n",
        "            k = 1\n",
        "            while current.next is not None and k < position:\n",
        "                current = current.next\n",
        "                k += 1\n",
        "            new_node.next = current.next\n",
        "            current.next = new_node\n",
        "\n",
        "    def reverse(self):\n",
        "        pre = sig = None\n",
        "        i = self.he\n",
        "        while i:\n",
        "          sig = i.next\n",
        "          i.next = pre\n",
        "          pre = i\n",
        "          i = sig\n",
        "        self.he = pre\n",
        "    \n",
        "    def mostrar(self):\n",
        "      current = self.he\n",
        "      while current is not None:\n",
        "        print(current.data)\n",
        "        current = current.next\n",
        "\n",
        "    def move(self, pos1, pos2):\n",
        "      current = self.he\n",
        "      pre = sig = current\n",
        "      k = 0\n",
        "      if pos1 != 0:\n",
        "        while current is not None and k + 1 < pos1:\n",
        "          sig = current.next\n",
        "          current = current.next\n",
        "          k+=1\n",
        "        i = current.next\n",
        "        current.next = current.next.next\n",
        "      else:\n",
        "        i = self.he\n",
        "        self.he = self.he.next\n",
        "      self.insert(i.data, pos2)\n",
        "\n",
        "    def rotar(self, k):\n",
        "      for i in range(k):\n",
        "        self.move(self.length()-1, i % self.length())\n",
        "\n",
        "#creamos la lista\n",
        "head= SinglyLinkedList(Node(1))\n",
        "#rellenamos la lista\n",
        "for i in range(2,6):\n",
        "    head.insert(i, i-1)\n",
        "#mostramos la lista\n",
        "head.mostrar()\n",
        "#se hace la rotacion y se muestra la lista\n",
        "n = int(input(\"Cuantas veces quieres rotar la lista: \"))\n",
        "head.rotar(n)\n",
        "head.mostrar()"
      ],
      "execution_count": 158,
      "outputs": [
        {
          "output_type": "stream",
          "text": [
            "1\n",
            "2\n",
            "3\n",
            "4\n",
            "5\n",
            "Cuantas veces quieres rotar la lista: 2\n",
            "5\n",
            "4\n",
            "1\n",
            "2\n",
            "3\n"
          ],
          "name": "stdout"
        }
      ]
    }
  ]
}